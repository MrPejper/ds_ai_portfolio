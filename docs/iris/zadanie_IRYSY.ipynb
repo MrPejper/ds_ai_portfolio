{
 "cells": [
  {
   "cell_type": "markdown",
   "metadata": {
    "editable": true,
    "slideshow": {
     "slide_type": "slide"
    },
    "tags": []
   },
   "source": [
    "## O Danych\n",
    "\n",
    "Zbiór danych zawiera informacje o trzech gatunkach irysów: Iris setosa, Iris versicolor, i Iris virginica.\n",
    "\n",
    "Dane obejmują pomiary czterech cech: długość i szerokość działki kielicha oraz długość i szerokość płatka.\n",
    "\n",
    "Każdy wiersz w zbiorze danych reprezentuje pojedynczy kwiat, a wartości pomiarów są podane w centymetrach.\n",
    "\n",
    "Zbiór składa się z 150 próbek, po 50 dla każdego gatunku.\n",
    "\n",
    "Kolumny:\n",
    "* **długość kielicha (sepal length)** - Długość kielicha w cm\n",
    "* **szerokość kielicha (sepal width)** - Szerokość kielicha w cm\n",
    "* **długość płatka (petal length)** - Długość płatka w cm\n",
    "* **szerokość płatka (petal width)** - Szerokość płatka w cm\n",
    "* **klasa (class)** - Klasa irysa (setosa, versicolor, virginica)"
   ]
  },
  {
   "cell_type": "code",
   "execution_count": 15,
   "metadata": {
    "editable": true,
    "jupyter": {
     "source_hidden": true
    },
    "slideshow": {
     "slide_type": ""
    },
    "tags": []
   },
   "outputs": [],
   "source": [
    "import random\n",
    "import pandas as pd"
   ]
  },
  {
   "cell_type": "code",
   "execution_count": 16,
   "metadata": {
    "editable": true,
    "jupyter": {
     "source_hidden": true
    },
    "slideshow": {
     "slide_type": "skip"
    },
    "tags": []
   },
   "outputs": [
    {
     "data": {
      "text/html": [
       "<div>\n",
       "<style scoped>\n",
       "    .dataframe tbody tr th:only-of-type {\n",
       "        vertical-align: middle;\n",
       "    }\n",
       "\n",
       "    .dataframe tbody tr th {\n",
       "        vertical-align: top;\n",
       "    }\n",
       "\n",
       "    .dataframe thead th {\n",
       "        text-align: right;\n",
       "    }\n",
       "</style>\n",
       "<table border=\"1\" class=\"dataframe\">\n",
       "  <thead>\n",
       "    <tr style=\"text-align: right;\">\n",
       "      <th></th>\n",
       "      <th>długość kielicha (sepal length)</th>\n",
       "      <th>szerokość kielicha (sepal width)</th>\n",
       "      <th>długość płatka (petal length)</th>\n",
       "      <th>szerokość płatka (petal width)</th>\n",
       "      <th>klasa (class)</th>\n",
       "    </tr>\n",
       "  </thead>\n",
       "  <tbody>\n",
       "    <tr>\n",
       "      <th>0</th>\n",
       "      <td>5.1</td>\n",
       "      <td>3.5</td>\n",
       "      <td>1.4</td>\n",
       "      <td>0.2</td>\n",
       "      <td>Iris-setosa</td>\n",
       "    </tr>\n",
       "    <tr>\n",
       "      <th>1</th>\n",
       "      <td>4.9</td>\n",
       "      <td>3.0</td>\n",
       "      <td>1.4</td>\n",
       "      <td>0.2</td>\n",
       "      <td>Iris-setosa</td>\n",
       "    </tr>\n",
       "    <tr>\n",
       "      <th>2</th>\n",
       "      <td>4.7</td>\n",
       "      <td>3.2</td>\n",
       "      <td>1.3</td>\n",
       "      <td>0.2</td>\n",
       "      <td>Iris-setosa</td>\n",
       "    </tr>\n",
       "    <tr>\n",
       "      <th>3</th>\n",
       "      <td>4.6</td>\n",
       "      <td>3.1</td>\n",
       "      <td>1.5</td>\n",
       "      <td>0.2</td>\n",
       "      <td>Iris-setosa</td>\n",
       "    </tr>\n",
       "    <tr>\n",
       "      <th>4</th>\n",
       "      <td>5.0</td>\n",
       "      <td>3.6</td>\n",
       "      <td>1.4</td>\n",
       "      <td>0.2</td>\n",
       "      <td>Iris-setosa</td>\n",
       "    </tr>\n",
       "    <tr>\n",
       "      <th>...</th>\n",
       "      <td>...</td>\n",
       "      <td>...</td>\n",
       "      <td>...</td>\n",
       "      <td>...</td>\n",
       "      <td>...</td>\n",
       "    </tr>\n",
       "    <tr>\n",
       "      <th>145</th>\n",
       "      <td>6.7</td>\n",
       "      <td>3.0</td>\n",
       "      <td>5.2</td>\n",
       "      <td>2.3</td>\n",
       "      <td>Iris-virginica</td>\n",
       "    </tr>\n",
       "    <tr>\n",
       "      <th>146</th>\n",
       "      <td>6.3</td>\n",
       "      <td>2.5</td>\n",
       "      <td>5.0</td>\n",
       "      <td>1.9</td>\n",
       "      <td>Iris-virginica</td>\n",
       "    </tr>\n",
       "    <tr>\n",
       "      <th>147</th>\n",
       "      <td>6.5</td>\n",
       "      <td>3.0</td>\n",
       "      <td>5.2</td>\n",
       "      <td>2.0</td>\n",
       "      <td>Iris-virginica</td>\n",
       "    </tr>\n",
       "    <tr>\n",
       "      <th>148</th>\n",
       "      <td>6.2</td>\n",
       "      <td>3.4</td>\n",
       "      <td>5.4</td>\n",
       "      <td>2.3</td>\n",
       "      <td>Iris-virginica</td>\n",
       "    </tr>\n",
       "    <tr>\n",
       "      <th>149</th>\n",
       "      <td>5.9</td>\n",
       "      <td>3.0</td>\n",
       "      <td>5.1</td>\n",
       "      <td>1.8</td>\n",
       "      <td>Iris-virginica</td>\n",
       "    </tr>\n",
       "  </tbody>\n",
       "</table>\n",
       "<p>150 rows × 5 columns</p>\n",
       "</div>"
      ],
      "text/plain": [
       "     długość kielicha (sepal length)  szerokość kielicha (sepal width)  \\\n",
       "0                                5.1                               3.5   \n",
       "1                                4.9                               3.0   \n",
       "2                                4.7                               3.2   \n",
       "3                                4.6                               3.1   \n",
       "4                                5.0                               3.6   \n",
       "..                               ...                               ...   \n",
       "145                              6.7                               3.0   \n",
       "146                              6.3                               2.5   \n",
       "147                              6.5                               3.0   \n",
       "148                              6.2                               3.4   \n",
       "149                              5.9                               3.0   \n",
       "\n",
       "     długość płatka (petal length)  szerokość płatka (petal width)  \\\n",
       "0                              1.4                             0.2   \n",
       "1                              1.4                             0.2   \n",
       "2                              1.3                             0.2   \n",
       "3                              1.5                             0.2   \n",
       "4                              1.4                             0.2   \n",
       "..                             ...                             ...   \n",
       "145                            5.2                             2.3   \n",
       "146                            5.0                             1.9   \n",
       "147                            5.2                             2.0   \n",
       "148                            5.4                             2.3   \n",
       "149                            5.1                             1.8   \n",
       "\n",
       "      klasa (class)  \n",
       "0       Iris-setosa  \n",
       "1       Iris-setosa  \n",
       "2       Iris-setosa  \n",
       "3       Iris-setosa  \n",
       "4       Iris-setosa  \n",
       "..              ...  \n",
       "145  Iris-virginica  \n",
       "146  Iris-virginica  \n",
       "147  Iris-virginica  \n",
       "148  Iris-virginica  \n",
       "149  Iris-virginica  \n",
       "\n",
       "[150 rows x 5 columns]"
      ]
     },
     "execution_count": 16,
     "metadata": {},
     "output_type": "execute_result"
    }
   ],
   "source": [
    "df = pd.read_csv('25__iris.csv', sep=\",\")\n",
    "df          "
   ]
  },
  {
   "cell_type": "markdown",
   "metadata": {
    "editable": true,
    "slideshow": {
     "slide_type": "slide"
    },
    "tags": []
   },
   "source": [
    "# Podstawowa analiza danych"
   ]
  },
  {
   "cell_type": "code",
   "execution_count": 17,
   "metadata": {
    "editable": true,
    "jupyter": {
     "source_hidden": true
    },
    "slideshow": {
     "slide_type": "slide"
    },
    "tags": []
   },
   "outputs": [
    {
     "data": {
      "text/html": [
       "<div>\n",
       "<style scoped>\n",
       "    .dataframe tbody tr th:only-of-type {\n",
       "        vertical-align: middle;\n",
       "    }\n",
       "\n",
       "    .dataframe tbody tr th {\n",
       "        vertical-align: top;\n",
       "    }\n",
       "\n",
       "    .dataframe thead th {\n",
       "        text-align: right;\n",
       "    }\n",
       "</style>\n",
       "<table border=\"1\" class=\"dataframe\">\n",
       "  <thead>\n",
       "    <tr style=\"text-align: right;\">\n",
       "      <th></th>\n",
       "      <th>długość kielicha (sepal length)</th>\n",
       "      <th>szerokość kielicha (sepal width)</th>\n",
       "      <th>długość płatka (petal length)</th>\n",
       "      <th>szerokość płatka (petal width)</th>\n",
       "      <th>klasa (class)</th>\n",
       "    </tr>\n",
       "  </thead>\n",
       "  <tbody>\n",
       "    <tr>\n",
       "      <th>5</th>\n",
       "      <td>5.4</td>\n",
       "      <td>3.9</td>\n",
       "      <td>1.7</td>\n",
       "      <td>0.4</td>\n",
       "      <td>Iris-setosa</td>\n",
       "    </tr>\n",
       "    <tr>\n",
       "      <th>106</th>\n",
       "      <td>4.9</td>\n",
       "      <td>2.5</td>\n",
       "      <td>4.5</td>\n",
       "      <td>1.7</td>\n",
       "      <td>Iris-virginica</td>\n",
       "    </tr>\n",
       "    <tr>\n",
       "      <th>28</th>\n",
       "      <td>5.2</td>\n",
       "      <td>3.4</td>\n",
       "      <td>1.4</td>\n",
       "      <td>0.2</td>\n",
       "      <td>Iris-setosa</td>\n",
       "    </tr>\n",
       "    <tr>\n",
       "      <th>142</th>\n",
       "      <td>5.8</td>\n",
       "      <td>2.7</td>\n",
       "      <td>5.1</td>\n",
       "      <td>1.9</td>\n",
       "      <td>Iris-virginica</td>\n",
       "    </tr>\n",
       "    <tr>\n",
       "      <th>53</th>\n",
       "      <td>5.5</td>\n",
       "      <td>2.3</td>\n",
       "      <td>4.0</td>\n",
       "      <td>1.3</td>\n",
       "      <td>Iris-versicolor</td>\n",
       "    </tr>\n",
       "    <tr>\n",
       "      <th>71</th>\n",
       "      <td>6.1</td>\n",
       "      <td>2.8</td>\n",
       "      <td>4.0</td>\n",
       "      <td>1.3</td>\n",
       "      <td>Iris-versicolor</td>\n",
       "    </tr>\n",
       "    <tr>\n",
       "      <th>42</th>\n",
       "      <td>4.4</td>\n",
       "      <td>3.2</td>\n",
       "      <td>1.3</td>\n",
       "      <td>0.2</td>\n",
       "      <td>Iris-setosa</td>\n",
       "    </tr>\n",
       "    <tr>\n",
       "      <th>83</th>\n",
       "      <td>6.0</td>\n",
       "      <td>2.7</td>\n",
       "      <td>5.1</td>\n",
       "      <td>1.6</td>\n",
       "      <td>Iris-versicolor</td>\n",
       "    </tr>\n",
       "    <tr>\n",
       "      <th>34</th>\n",
       "      <td>4.9</td>\n",
       "      <td>3.1</td>\n",
       "      <td>1.5</td>\n",
       "      <td>0.1</td>\n",
       "      <td>Iris-setosa</td>\n",
       "    </tr>\n",
       "    <tr>\n",
       "      <th>69</th>\n",
       "      <td>5.6</td>\n",
       "      <td>2.5</td>\n",
       "      <td>3.9</td>\n",
       "      <td>1.1</td>\n",
       "      <td>Iris-versicolor</td>\n",
       "    </tr>\n",
       "    <tr>\n",
       "      <th>52</th>\n",
       "      <td>6.9</td>\n",
       "      <td>3.1</td>\n",
       "      <td>4.9</td>\n",
       "      <td>1.5</td>\n",
       "      <td>Iris-versicolor</td>\n",
       "    </tr>\n",
       "    <tr>\n",
       "      <th>85</th>\n",
       "      <td>6.0</td>\n",
       "      <td>3.4</td>\n",
       "      <td>4.5</td>\n",
       "      <td>1.6</td>\n",
       "      <td>Iris-versicolor</td>\n",
       "    </tr>\n",
       "    <tr>\n",
       "      <th>75</th>\n",
       "      <td>6.6</td>\n",
       "      <td>3.0</td>\n",
       "      <td>4.4</td>\n",
       "      <td>1.4</td>\n",
       "      <td>Iris-versicolor</td>\n",
       "    </tr>\n",
       "    <tr>\n",
       "      <th>25</th>\n",
       "      <td>5.0</td>\n",
       "      <td>3.0</td>\n",
       "      <td>1.6</td>\n",
       "      <td>0.2</td>\n",
       "      <td>Iris-setosa</td>\n",
       "    </tr>\n",
       "    <tr>\n",
       "      <th>120</th>\n",
       "      <td>6.9</td>\n",
       "      <td>3.2</td>\n",
       "      <td>5.7</td>\n",
       "      <td>2.3</td>\n",
       "      <td>Iris-virginica</td>\n",
       "    </tr>\n",
       "    <tr>\n",
       "      <th>143</th>\n",
       "      <td>6.8</td>\n",
       "      <td>3.2</td>\n",
       "      <td>5.9</td>\n",
       "      <td>2.3</td>\n",
       "      <td>Iris-virginica</td>\n",
       "    </tr>\n",
       "    <tr>\n",
       "      <th>145</th>\n",
       "      <td>6.7</td>\n",
       "      <td>3.0</td>\n",
       "      <td>5.2</td>\n",
       "      <td>2.3</td>\n",
       "      <td>Iris-virginica</td>\n",
       "    </tr>\n",
       "    <tr>\n",
       "      <th>74</th>\n",
       "      <td>6.4</td>\n",
       "      <td>2.9</td>\n",
       "      <td>4.3</td>\n",
       "      <td>1.3</td>\n",
       "      <td>Iris-versicolor</td>\n",
       "    </tr>\n",
       "    <tr>\n",
       "      <th>138</th>\n",
       "      <td>6.0</td>\n",
       "      <td>3.0</td>\n",
       "      <td>4.8</td>\n",
       "      <td>1.8</td>\n",
       "      <td>Iris-virginica</td>\n",
       "    </tr>\n",
       "    <tr>\n",
       "      <th>3</th>\n",
       "      <td>4.6</td>\n",
       "      <td>3.1</td>\n",
       "      <td>1.5</td>\n",
       "      <td>0.2</td>\n",
       "      <td>Iris-setosa</td>\n",
       "    </tr>\n",
       "  </tbody>\n",
       "</table>\n",
       "</div>"
      ],
      "text/plain": [
       "     długość kielicha (sepal length)  szerokość kielicha (sepal width)  \\\n",
       "5                                5.4                               3.9   \n",
       "106                              4.9                               2.5   \n",
       "28                               5.2                               3.4   \n",
       "142                              5.8                               2.7   \n",
       "53                               5.5                               2.3   \n",
       "71                               6.1                               2.8   \n",
       "42                               4.4                               3.2   \n",
       "83                               6.0                               2.7   \n",
       "34                               4.9                               3.1   \n",
       "69                               5.6                               2.5   \n",
       "52                               6.9                               3.1   \n",
       "85                               6.0                               3.4   \n",
       "75                               6.6                               3.0   \n",
       "25                               5.0                               3.0   \n",
       "120                              6.9                               3.2   \n",
       "143                              6.8                               3.2   \n",
       "145                              6.7                               3.0   \n",
       "74                               6.4                               2.9   \n",
       "138                              6.0                               3.0   \n",
       "3                                4.6                               3.1   \n",
       "\n",
       "     długość płatka (petal length)  szerokość płatka (petal width)  \\\n",
       "5                              1.7                             0.4   \n",
       "106                            4.5                             1.7   \n",
       "28                             1.4                             0.2   \n",
       "142                            5.1                             1.9   \n",
       "53                             4.0                             1.3   \n",
       "71                             4.0                             1.3   \n",
       "42                             1.3                             0.2   \n",
       "83                             5.1                             1.6   \n",
       "34                             1.5                             0.1   \n",
       "69                             3.9                             1.1   \n",
       "52                             4.9                             1.5   \n",
       "85                             4.5                             1.6   \n",
       "75                             4.4                             1.4   \n",
       "25                             1.6                             0.2   \n",
       "120                            5.7                             2.3   \n",
       "143                            5.9                             2.3   \n",
       "145                            5.2                             2.3   \n",
       "74                             4.3                             1.3   \n",
       "138                            4.8                             1.8   \n",
       "3                              1.5                             0.2   \n",
       "\n",
       "       klasa (class)  \n",
       "5        Iris-setosa  \n",
       "106   Iris-virginica  \n",
       "28       Iris-setosa  \n",
       "142   Iris-virginica  \n",
       "53   Iris-versicolor  \n",
       "71   Iris-versicolor  \n",
       "42       Iris-setosa  \n",
       "83   Iris-versicolor  \n",
       "34       Iris-setosa  \n",
       "69   Iris-versicolor  \n",
       "52   Iris-versicolor  \n",
       "85   Iris-versicolor  \n",
       "75   Iris-versicolor  \n",
       "25       Iris-setosa  \n",
       "120   Iris-virginica  \n",
       "143   Iris-virginica  \n",
       "145   Iris-virginica  \n",
       "74   Iris-versicolor  \n",
       "138   Iris-virginica  \n",
       "3        Iris-setosa  "
      ]
     },
     "execution_count": 17,
     "metadata": {},
     "output_type": "execute_result"
    }
   ],
   "source": [
    "df = pd.read_csv('25__iris.csv', sep=\",\")\n",
    "df.sample(20)"
   ]
  },
  {
   "cell_type": "markdown",
   "metadata": {
    "editable": true,
    "slideshow": {
     "slide_type": "slide"
    },
    "tags": []
   },
   "source": [
    "Ilość wartości unikalnych"
   ]
  },
  {
   "cell_type": "code",
   "execution_count": 18,
   "metadata": {
    "editable": true,
    "jupyter": {
     "source_hidden": true
    },
    "slideshow": {
     "slide_type": "fragment"
    },
    "tags": []
   },
   "outputs": [
    {
     "data": {
      "text/plain": [
       "długość kielicha (sepal length)     35\n",
       "szerokość kielicha (sepal width)    23\n",
       "długość płatka (petal length)       43\n",
       "szerokość płatka (petal width)      22\n",
       "klasa (class)                        3\n",
       "dtype: int64"
      ]
     },
     "execution_count": 18,
     "metadata": {},
     "output_type": "execute_result"
    }
   ],
   "source": [
    "df.nunique()"
   ]
  },
  {
   "cell_type": "code",
   "execution_count": 19,
   "metadata": {
    "editable": true,
    "jupyter": {
     "source_hidden": true
    },
    "scrolled": true,
    "slideshow": {
     "slide_type": "skip"
    },
    "tags": []
   },
   "outputs": [
    {
     "data": {
      "text/html": [
       "<div>\n",
       "<style scoped>\n",
       "    .dataframe tbody tr th:only-of-type {\n",
       "        vertical-align: middle;\n",
       "    }\n",
       "\n",
       "    .dataframe tbody tr th {\n",
       "        vertical-align: top;\n",
       "    }\n",
       "\n",
       "    .dataframe thead th {\n",
       "        text-align: right;\n",
       "    }\n",
       "</style>\n",
       "<table border=\"1\" class=\"dataframe\">\n",
       "  <thead>\n",
       "    <tr style=\"text-align: right;\">\n",
       "      <th></th>\n",
       "      <th>długość kielicha (sepal length)</th>\n",
       "      <th>szerokość kielicha (sepal width)</th>\n",
       "      <th>długość płatka (petal length)</th>\n",
       "      <th>szerokość płatka (petal width)</th>\n",
       "      <th>klasa (class)</th>\n",
       "    </tr>\n",
       "  </thead>\n",
       "  <tbody>\n",
       "    <tr>\n",
       "      <th>34</th>\n",
       "      <td>4.9</td>\n",
       "      <td>3.1</td>\n",
       "      <td>1.5</td>\n",
       "      <td>0.1</td>\n",
       "      <td>Iris-setosa</td>\n",
       "    </tr>\n",
       "    <tr>\n",
       "      <th>37</th>\n",
       "      <td>4.9</td>\n",
       "      <td>3.1</td>\n",
       "      <td>1.5</td>\n",
       "      <td>0.1</td>\n",
       "      <td>Iris-setosa</td>\n",
       "    </tr>\n",
       "    <tr>\n",
       "      <th>142</th>\n",
       "      <td>5.8</td>\n",
       "      <td>2.7</td>\n",
       "      <td>5.1</td>\n",
       "      <td>1.9</td>\n",
       "      <td>Iris-virginica</td>\n",
       "    </tr>\n",
       "  </tbody>\n",
       "</table>\n",
       "</div>"
      ],
      "text/plain": [
       "     długość kielicha (sepal length)  szerokość kielicha (sepal width)  \\\n",
       "34                               4.9                               3.1   \n",
       "37                               4.9                               3.1   \n",
       "142                              5.8                               2.7   \n",
       "\n",
       "     długość płatka (petal length)  szerokość płatka (petal width)  \\\n",
       "34                             1.5                             0.1   \n",
       "37                             1.5                             0.1   \n",
       "142                            5.1                             1.9   \n",
       "\n",
       "      klasa (class)  \n",
       "34      Iris-setosa  \n",
       "37      Iris-setosa  \n",
       "142  Iris-virginica  "
      ]
     },
     "execution_count": 19,
     "metadata": {},
     "output_type": "execute_result"
    }
   ],
   "source": [
    "df[df.duplicated()]"
   ]
  },
  {
   "cell_type": "code",
   "execution_count": 20,
   "metadata": {
    "editable": true,
    "jupyter": {
     "source_hidden": true
    },
    "slideshow": {
     "slide_type": "slide"
    },
    "tags": []
   },
   "outputs": [
    {
     "data": {
      "text/html": [
       "<div>\n",
       "<style scoped>\n",
       "    .dataframe tbody tr th:only-of-type {\n",
       "        vertical-align: middle;\n",
       "    }\n",
       "\n",
       "    .dataframe tbody tr th {\n",
       "        vertical-align: top;\n",
       "    }\n",
       "\n",
       "    .dataframe thead th {\n",
       "        text-align: right;\n",
       "    }\n",
       "</style>\n",
       "<table border=\"1\" class=\"dataframe\">\n",
       "  <thead>\n",
       "    <tr style=\"text-align: right;\">\n",
       "      <th></th>\n",
       "      <th>długość kielicha (sepal length)</th>\n",
       "      <th>szerokość kielicha (sepal width)</th>\n",
       "      <th>długość płatka (petal length)</th>\n",
       "      <th>szerokość płatka (petal width)</th>\n",
       "    </tr>\n",
       "  </thead>\n",
       "  <tbody>\n",
       "    <tr>\n",
       "      <th>count</th>\n",
       "      <td>150.000000</td>\n",
       "      <td>150.000000</td>\n",
       "      <td>150.000000</td>\n",
       "      <td>150.000000</td>\n",
       "    </tr>\n",
       "    <tr>\n",
       "      <th>mean</th>\n",
       "      <td>5.843333</td>\n",
       "      <td>3.054000</td>\n",
       "      <td>3.758667</td>\n",
       "      <td>1.198667</td>\n",
       "    </tr>\n",
       "    <tr>\n",
       "      <th>std</th>\n",
       "      <td>0.828066</td>\n",
       "      <td>0.433594</td>\n",
       "      <td>1.764420</td>\n",
       "      <td>0.763161</td>\n",
       "    </tr>\n",
       "    <tr>\n",
       "      <th>min</th>\n",
       "      <td>4.300000</td>\n",
       "      <td>2.000000</td>\n",
       "      <td>1.000000</td>\n",
       "      <td>0.100000</td>\n",
       "    </tr>\n",
       "    <tr>\n",
       "      <th>25%</th>\n",
       "      <td>5.100000</td>\n",
       "      <td>2.800000</td>\n",
       "      <td>1.600000</td>\n",
       "      <td>0.300000</td>\n",
       "    </tr>\n",
       "    <tr>\n",
       "      <th>50%</th>\n",
       "      <td>5.800000</td>\n",
       "      <td>3.000000</td>\n",
       "      <td>4.350000</td>\n",
       "      <td>1.300000</td>\n",
       "    </tr>\n",
       "    <tr>\n",
       "      <th>75%</th>\n",
       "      <td>6.400000</td>\n",
       "      <td>3.300000</td>\n",
       "      <td>5.100000</td>\n",
       "      <td>1.800000</td>\n",
       "    </tr>\n",
       "    <tr>\n",
       "      <th>max</th>\n",
       "      <td>7.900000</td>\n",
       "      <td>4.400000</td>\n",
       "      <td>6.900000</td>\n",
       "      <td>2.500000</td>\n",
       "    </tr>\n",
       "  </tbody>\n",
       "</table>\n",
       "</div>"
      ],
      "text/plain": [
       "       długość kielicha (sepal length)  szerokość kielicha (sepal width)  \\\n",
       "count                       150.000000                        150.000000   \n",
       "mean                          5.843333                          3.054000   \n",
       "std                           0.828066                          0.433594   \n",
       "min                           4.300000                          2.000000   \n",
       "25%                           5.100000                          2.800000   \n",
       "50%                           5.800000                          3.000000   \n",
       "75%                           6.400000                          3.300000   \n",
       "max                           7.900000                          4.400000   \n",
       "\n",
       "       długość płatka (petal length)  szerokość płatka (petal width)  \n",
       "count                     150.000000                      150.000000  \n",
       "mean                        3.758667                        1.198667  \n",
       "std                         1.764420                        0.763161  \n",
       "min                         1.000000                        0.100000  \n",
       "25%                         1.600000                        0.300000  \n",
       "50%                         4.350000                        1.300000  \n",
       "75%                         5.100000                        1.800000  \n",
       "max                         6.900000                        2.500000  "
      ]
     },
     "execution_count": 20,
     "metadata": {},
     "output_type": "execute_result"
    }
   ],
   "source": [
    "df.describe()"
   ]
  },
  {
   "cell_type": "markdown",
   "metadata": {
    "editable": true,
    "slideshow": {
     "slide_type": "fragment"
    },
    "tags": []
   },
   "source": [
    "Po wstępnej analizie można stwierdzić, że irysy rozmiary irysów podanych trzech gatunków wahają się o nie więcej niż kilka centymetrów, gdzie najbardziej typowa wartość dla poszczególnych czynników to:\n",
    "- długość kielicha ~ 5,8cm\n",
    "- szerokość kielicha ~ 3cm\n",
    "- długość płatka ~ 4,3cm\n",
    "- szerokość płatka ~ 1,3cm\n",
    "\n",
    "Również rzadkim zjawiskiem jest występowanie irysów o dokładnie tych samych parametrach."
   ]
  },
  {
   "cell_type": "markdown",
   "metadata": {
    "editable": true,
    "slideshow": {
     "slide_type": "slide"
    },
    "tags": []
   },
   "source": [
    "# Analiza poszczególnych gatunków"
   ]
  },
  {
   "cell_type": "code",
   "execution_count": 21,
   "metadata": {
    "editable": true,
    "jupyter": {
     "source_hidden": true
    },
    "slideshow": {
     "slide_type": ""
    },
    "tags": []
   },
   "outputs": [],
   "source": [
    "set_df = df[df['klasa (class)'].isin(['Iris-setosa'])]\n",
    "vir_df = df[df['klasa (class)'].isin(['Iris-virginica'])]\n",
    "ver_df = df[df['klasa (class)'].isin(['Iris-versicolor'])]\n"
   ]
  },
  {
   "cell_type": "markdown",
   "metadata": {
    "editable": true,
    "slideshow": {
     "slide_type": "slide"
    },
    "tags": []
   },
   "source": [
    "## Iris setosa"
   ]
  },
  {
   "cell_type": "code",
   "execution_count": 22,
   "metadata": {
    "editable": true,
    "jupyter": {
     "source_hidden": true
    },
    "slideshow": {
     "slide_type": "fragment"
    },
    "tags": []
   },
   "outputs": [
    {
     "data": {
      "image/png": "[encoded data removed]",
      "text/plain": [
       "<Figure size 640x480 with 4 Axes>"
      ]
     },
     "metadata": {},
     "output_type": "display_data"
    }
   ],
   "source": [
    "set_df.hist();"
   ]
  },
  {
   "cell_type": "code",
   "execution_count": 23,
   "metadata": {
    "editable": true,
    "jupyter": {
     "source_hidden": true
    },
    "slideshow": {
     "slide_type": "slide"
    },
    "tags": []
   },
   "outputs": [
    {
     "data": {
      "text/html": [
       "<div>\n",
       "<style scoped>\n",
       "    .dataframe tbody tr th:only-of-type {\n",
       "        vertical-align: middle;\n",
       "    }\n",
       "\n",
       "    .dataframe tbody tr th {\n",
       "        vertical-align: top;\n",
       "    }\n",
       "\n",
       "    .dataframe thead th {\n",
       "        text-align: right;\n",
       "    }\n",
       "</style>\n",
       "<table border=\"1\" class=\"dataframe\">\n",
       "  <thead>\n",
       "    <tr style=\"text-align: right;\">\n",
       "      <th></th>\n",
       "      <th>długość kielicha (sepal length)</th>\n",
       "      <th>szerokość kielicha (sepal width)</th>\n",
       "      <th>długość płatka (petal length)</th>\n",
       "      <th>szerokość płatka (petal width)</th>\n",
       "    </tr>\n",
       "  </thead>\n",
       "  <tbody>\n",
       "    <tr>\n",
       "      <th>count</th>\n",
       "      <td>50.00000</td>\n",
       "      <td>50.000000</td>\n",
       "      <td>50.000000</td>\n",
       "      <td>50.00000</td>\n",
       "    </tr>\n",
       "    <tr>\n",
       "      <th>mean</th>\n",
       "      <td>5.00600</td>\n",
       "      <td>3.418000</td>\n",
       "      <td>1.464000</td>\n",
       "      <td>0.24400</td>\n",
       "    </tr>\n",
       "    <tr>\n",
       "      <th>std</th>\n",
       "      <td>0.35249</td>\n",
       "      <td>0.381024</td>\n",
       "      <td>0.173511</td>\n",
       "      <td>0.10721</td>\n",
       "    </tr>\n",
       "    <tr>\n",
       "      <th>min</th>\n",
       "      <td>4.30000</td>\n",
       "      <td>2.300000</td>\n",
       "      <td>1.000000</td>\n",
       "      <td>0.10000</td>\n",
       "    </tr>\n",
       "    <tr>\n",
       "      <th>25%</th>\n",
       "      <td>4.80000</td>\n",
       "      <td>3.125000</td>\n",
       "      <td>1.400000</td>\n",
       "      <td>0.20000</td>\n",
       "    </tr>\n",
       "    <tr>\n",
       "      <th>50%</th>\n",
       "      <td>5.00000</td>\n",
       "      <td>3.400000</td>\n",
       "      <td>1.500000</td>\n",
       "      <td>0.20000</td>\n",
       "    </tr>\n",
       "    <tr>\n",
       "      <th>75%</th>\n",
       "      <td>5.20000</td>\n",
       "      <td>3.675000</td>\n",
       "      <td>1.575000</td>\n",
       "      <td>0.30000</td>\n",
       "    </tr>\n",
       "    <tr>\n",
       "      <th>max</th>\n",
       "      <td>5.80000</td>\n",
       "      <td>4.400000</td>\n",
       "      <td>1.900000</td>\n",
       "      <td>0.60000</td>\n",
       "    </tr>\n",
       "  </tbody>\n",
       "</table>\n",
       "</div>"
      ],
      "text/plain": [
       "       długość kielicha (sepal length)  szerokość kielicha (sepal width)  \\\n",
       "count                         50.00000                         50.000000   \n",
       "mean                           5.00600                          3.418000   \n",
       "std                            0.35249                          0.381024   \n",
       "min                            4.30000                          2.300000   \n",
       "25%                            4.80000                          3.125000   \n",
       "50%                            5.00000                          3.400000   \n",
       "75%                            5.20000                          3.675000   \n",
       "max                            5.80000                          4.400000   \n",
       "\n",
       "       długość płatka (petal length)  szerokość płatka (petal width)  \n",
       "count                      50.000000                        50.00000  \n",
       "mean                        1.464000                         0.24400  \n",
       "std                         0.173511                         0.10721  \n",
       "min                         1.000000                         0.10000  \n",
       "25%                         1.400000                         0.20000  \n",
       "50%                         1.500000                         0.20000  \n",
       "75%                         1.575000                         0.30000  \n",
       "max                         1.900000                         0.60000  "
      ]
     },
     "execution_count": 23,
     "metadata": {},
     "output_type": "execute_result"
    }
   ],
   "source": [
    "set_df.describe()"
   ]
  },
  {
   "cell_type": "markdown",
   "metadata": {
    "editable": true,
    "slideshow": {
     "slide_type": "fragment"
    },
    "tags": []
   },
   "source": [
    "**Uśrednione wartości**\n",
    "- długość kielicha - 5cm\n",
    "- szerokość kielicha - 3,5cm\n",
    "- długość płatka - 1,5cm\n",
    "- szerokość płatka - szerokość płatka 0,2cm"
   ]
  },
  {
   "cell_type": "markdown",
   "metadata": {
    "editable": true,
    "slideshow": {
     "slide_type": "slide"
    },
    "tags": []
   },
   "source": [
    "## Iris versicolor"
   ]
  },
  {
   "cell_type": "code",
   "execution_count": 24,
   "metadata": {
    "editable": true,
    "jupyter": {
     "source_hidden": true
    },
    "slideshow": {
     "slide_type": "fragment"
    },
    "tags": []
   },
   "outputs": [
    {
     "data": {
      "image/png": "[encoded data removed]",
      "text/plain": [
       "<Figure size 640x480 with 4 Axes>"
      ]
     },
     "metadata": {},
     "output_type": "display_data"
    }
   ],
   "source": [
    "ver_df.hist();"
   ]
  },
  {
   "cell_type": "code",
   "execution_count": 25,
   "metadata": {
    "editable": true,
    "jupyter": {
     "source_hidden": true
    },
    "slideshow": {
     "slide_type": "slide"
    },
    "tags": []
   },
   "outputs": [
    {
     "data": {
      "text/html": [
       "<div>\n",
       "<style scoped>\n",
       "    .dataframe tbody tr th:only-of-type {\n",
       "        vertical-align: middle;\n",
       "    }\n",
       "\n",
       "    .dataframe tbody tr th {\n",
       "        vertical-align: top;\n",
       "    }\n",
       "\n",
       "    .dataframe thead th {\n",
       "        text-align: right;\n",
       "    }\n",
       "</style>\n",
       "<table border=\"1\" class=\"dataframe\">\n",
       "  <thead>\n",
       "    <tr style=\"text-align: right;\">\n",
       "      <th></th>\n",
       "      <th>długość kielicha (sepal length)</th>\n",
       "      <th>szerokość kielicha (sepal width)</th>\n",
       "      <th>długość płatka (petal length)</th>\n",
       "      <th>szerokość płatka (petal width)</th>\n",
       "    </tr>\n",
       "  </thead>\n",
       "  <tbody>\n",
       "    <tr>\n",
       "      <th>count</th>\n",
       "      <td>50.000000</td>\n",
       "      <td>50.000000</td>\n",
       "      <td>50.000000</td>\n",
       "      <td>50.000000</td>\n",
       "    </tr>\n",
       "    <tr>\n",
       "      <th>mean</th>\n",
       "      <td>5.936000</td>\n",
       "      <td>2.770000</td>\n",
       "      <td>4.260000</td>\n",
       "      <td>1.326000</td>\n",
       "    </tr>\n",
       "    <tr>\n",
       "      <th>std</th>\n",
       "      <td>0.516171</td>\n",
       "      <td>0.313798</td>\n",
       "      <td>0.469911</td>\n",
       "      <td>0.197753</td>\n",
       "    </tr>\n",
       "    <tr>\n",
       "      <th>min</th>\n",
       "      <td>4.900000</td>\n",
       "      <td>2.000000</td>\n",
       "      <td>3.000000</td>\n",
       "      <td>1.000000</td>\n",
       "    </tr>\n",
       "    <tr>\n",
       "      <th>25%</th>\n",
       "      <td>5.600000</td>\n",
       "      <td>2.525000</td>\n",
       "      <td>4.000000</td>\n",
       "      <td>1.200000</td>\n",
       "    </tr>\n",
       "    <tr>\n",
       "      <th>50%</th>\n",
       "      <td>5.900000</td>\n",
       "      <td>2.800000</td>\n",
       "      <td>4.350000</td>\n",
       "      <td>1.300000</td>\n",
       "    </tr>\n",
       "    <tr>\n",
       "      <th>75%</th>\n",
       "      <td>6.300000</td>\n",
       "      <td>3.000000</td>\n",
       "      <td>4.600000</td>\n",
       "      <td>1.500000</td>\n",
       "    </tr>\n",
       "    <tr>\n",
       "      <th>max</th>\n",
       "      <td>7.000000</td>\n",
       "      <td>3.400000</td>\n",
       "      <td>5.100000</td>\n",
       "      <td>1.800000</td>\n",
       "    </tr>\n",
       "  </tbody>\n",
       "</table>\n",
       "</div>"
      ],
      "text/plain": [
       "       długość kielicha (sepal length)  szerokość kielicha (sepal width)  \\\n",
       "count                        50.000000                         50.000000   \n",
       "mean                          5.936000                          2.770000   \n",
       "std                           0.516171                          0.313798   \n",
       "min                           4.900000                          2.000000   \n",
       "25%                           5.600000                          2.525000   \n",
       "50%                           5.900000                          2.800000   \n",
       "75%                           6.300000                          3.000000   \n",
       "max                           7.000000                          3.400000   \n",
       "\n",
       "       długość płatka (petal length)  szerokość płatka (petal width)  \n",
       "count                      50.000000                       50.000000  \n",
       "mean                        4.260000                        1.326000  \n",
       "std                         0.469911                        0.197753  \n",
       "min                         3.000000                        1.000000  \n",
       "25%                         4.000000                        1.200000  \n",
       "50%                         4.350000                        1.300000  \n",
       "75%                         4.600000                        1.500000  \n",
       "max                         5.100000                        1.800000  "
      ]
     },
     "execution_count": 25,
     "metadata": {},
     "output_type": "execute_result"
    }
   ],
   "source": [
    "ver_df.describe()"
   ]
  },
  {
   "cell_type": "markdown",
   "metadata": {
    "editable": true,
    "slideshow": {
     "slide_type": "fragment"
    },
    "tags": []
   },
   "source": [
    "**Uśrednione wartości**\n",
    "- długość kielicha - 5,5cm\n",
    "- szerokość kielicha - 2,8cm \n",
    "- długość płatka - 4,5cm\n",
    "- szerokość płatka - szerokość płatka 1,3cm"
   ]
  },
  {
   "cell_type": "markdown",
   "metadata": {
    "editable": true,
    "slideshow": {
     "slide_type": "slide"
    },
    "tags": []
   },
   "source": [
    "## Iris virginica"
   ]
  },
  {
   "cell_type": "code",
   "execution_count": 26,
   "metadata": {
    "editable": true,
    "jupyter": {
     "source_hidden": true
    },
    "slideshow": {
     "slide_type": "fragment"
    },
    "tags": []
   },
   "outputs": [
    {
     "data": {
      "image/png": "[encoded data removed]",
      "text/plain": [
       "<Figure size 640x480 with 4 Axes>"
      ]
     },
     "metadata": {},
     "output_type": "display_data"
    }
   ],
   "source": [
    "vir_df.hist();"
   ]
  },
  {
   "cell_type": "code",
   "execution_count": 27,
   "metadata": {
    "editable": true,
    "jupyter": {
     "source_hidden": true
    },
    "scrolled": true,
    "slideshow": {
     "slide_type": "slide"
    },
    "tags": []
   },
   "outputs": [
    {
     "data": {
      "text/html": [
       "<div>\n",
       "<style scoped>\n",
       "    .dataframe tbody tr th:only-of-type {\n",
       "        vertical-align: middle;\n",
       "    }\n",
       "\n",
       "    .dataframe tbody tr th {\n",
       "        vertical-align: top;\n",
       "    }\n",
       "\n",
       "    .dataframe thead th {\n",
       "        text-align: right;\n",
       "    }\n",
       "</style>\n",
       "<table border=\"1\" class=\"dataframe\">\n",
       "  <thead>\n",
       "    <tr style=\"text-align: right;\">\n",
       "      <th></th>\n",
       "      <th>długość kielicha (sepal length)</th>\n",
       "      <th>szerokość kielicha (sepal width)</th>\n",
       "      <th>długość płatka (petal length)</th>\n",
       "      <th>szerokość płatka (petal width)</th>\n",
       "    </tr>\n",
       "  </thead>\n",
       "  <tbody>\n",
       "    <tr>\n",
       "      <th>count</th>\n",
       "      <td>50.00000</td>\n",
       "      <td>50.000000</td>\n",
       "      <td>50.000000</td>\n",
       "      <td>50.00000</td>\n",
       "    </tr>\n",
       "    <tr>\n",
       "      <th>mean</th>\n",
       "      <td>6.58800</td>\n",
       "      <td>2.974000</td>\n",
       "      <td>5.552000</td>\n",
       "      <td>2.02600</td>\n",
       "    </tr>\n",
       "    <tr>\n",
       "      <th>std</th>\n",
       "      <td>0.63588</td>\n",
       "      <td>0.322497</td>\n",
       "      <td>0.551895</td>\n",
       "      <td>0.27465</td>\n",
       "    </tr>\n",
       "    <tr>\n",
       "      <th>min</th>\n",
       "      <td>4.90000</td>\n",
       "      <td>2.200000</td>\n",
       "      <td>4.500000</td>\n",
       "      <td>1.40000</td>\n",
       "    </tr>\n",
       "    <tr>\n",
       "      <th>25%</th>\n",
       "      <td>6.22500</td>\n",
       "      <td>2.800000</td>\n",
       "      <td>5.100000</td>\n",
       "      <td>1.80000</td>\n",
       "    </tr>\n",
       "    <tr>\n",
       "      <th>50%</th>\n",
       "      <td>6.50000</td>\n",
       "      <td>3.000000</td>\n",
       "      <td>5.550000</td>\n",
       "      <td>2.00000</td>\n",
       "    </tr>\n",
       "    <tr>\n",
       "      <th>75%</th>\n",
       "      <td>6.90000</td>\n",
       "      <td>3.175000</td>\n",
       "      <td>5.875000</td>\n",
       "      <td>2.30000</td>\n",
       "    </tr>\n",
       "    <tr>\n",
       "      <th>max</th>\n",
       "      <td>7.90000</td>\n",
       "      <td>3.800000</td>\n",
       "      <td>6.900000</td>\n",
       "      <td>2.50000</td>\n",
       "    </tr>\n",
       "  </tbody>\n",
       "</table>\n",
       "</div>"
      ],
      "text/plain": [
       "       długość kielicha (sepal length)  szerokość kielicha (sepal width)  \\\n",
       "count                         50.00000                         50.000000   \n",
       "mean                           6.58800                          2.974000   \n",
       "std                            0.63588                          0.322497   \n",
       "min                            4.90000                          2.200000   \n",
       "25%                            6.22500                          2.800000   \n",
       "50%                            6.50000                          3.000000   \n",
       "75%                            6.90000                          3.175000   \n",
       "max                            7.90000                          3.800000   \n",
       "\n",
       "       długość płatka (petal length)  szerokość płatka (petal width)  \n",
       "count                      50.000000                        50.00000  \n",
       "mean                        5.552000                         2.02600  \n",
       "std                         0.551895                         0.27465  \n",
       "min                         4.500000                         1.40000  \n",
       "25%                         5.100000                         1.80000  \n",
       "50%                         5.550000                         2.00000  \n",
       "75%                         5.875000                         2.30000  \n",
       "max                         6.900000                         2.50000  "
      ]
     },
     "execution_count": 27,
     "metadata": {},
     "output_type": "execute_result"
    }
   ],
   "source": [
    "vir_df.describe()"
   ]
  },
  {
   "cell_type": "markdown",
   "metadata": {
    "editable": true,
    "slideshow": {
     "slide_type": "fragment"
    },
    "tags": []
   },
   "source": [
    "**Uśrednione wartości**\n",
    "- długość kielicha - 6,5cm\n",
    "- szerokość kielicha - 3cm\n",
    "- długość płatka - 5,5cm\n",
    "- szerokość płatka - szerokość płatka 2cm"
   ]
  },
  {
   "cell_type": "markdown",
   "metadata": {
    "editable": true,
    "slideshow": {
     "slide_type": "slide"
    },
    "tags": []
   },
   "source": [
    "# Korelacje"
   ]
  },
  {
   "cell_type": "code",
   "execution_count": 28,
   "metadata": {
    "editable": true,
    "jupyter": {
     "source_hidden": true
    },
    "scrolled": true,
    "slideshow": {
     "slide_type": "fragment"
    },
    "tags": []
   },
   "outputs": [
    {
     "data": {
      "text/html": [
       "<div>\n",
       "<style scoped>\n",
       "    .dataframe tbody tr th:only-of-type {\n",
       "        vertical-align: middle;\n",
       "    }\n",
       "\n",
       "    .dataframe tbody tr th {\n",
       "        vertical-align: top;\n",
       "    }\n",
       "\n",
       "    .dataframe thead th {\n",
       "        text-align: right;\n",
       "    }\n",
       "</style>\n",
       "<table border=\"1\" class=\"dataframe\">\n",
       "  <thead>\n",
       "    <tr style=\"text-align: right;\">\n",
       "      <th></th>\n",
       "      <th>długość kielicha (sepal length)</th>\n",
       "      <th>szerokość kielicha (sepal width)</th>\n",
       "      <th>długość płatka (petal length)</th>\n",
       "      <th>szerokość płatka (petal width)</th>\n",
       "    </tr>\n",
       "  </thead>\n",
       "  <tbody>\n",
       "    <tr>\n",
       "      <th>długość kielicha (sepal length)</th>\n",
       "      <td>1.000000</td>\n",
       "      <td>-0.109369</td>\n",
       "      <td>0.871754</td>\n",
       "      <td>0.817954</td>\n",
       "    </tr>\n",
       "    <tr>\n",
       "      <th>szerokość kielicha (sepal width)</th>\n",
       "      <td>-0.109369</td>\n",
       "      <td>1.000000</td>\n",
       "      <td>-0.420516</td>\n",
       "      <td>-0.356544</td>\n",
       "    </tr>\n",
       "    <tr>\n",
       "      <th>długość płatka (petal length)</th>\n",
       "      <td>0.871754</td>\n",
       "      <td>-0.420516</td>\n",
       "      <td>1.000000</td>\n",
       "      <td>0.962757</td>\n",
       "    </tr>\n",
       "    <tr>\n",
       "      <th>szerokość płatka (petal width)</th>\n",
       "      <td>0.817954</td>\n",
       "      <td>-0.356544</td>\n",
       "      <td>0.962757</td>\n",
       "      <td>1.000000</td>\n",
       "    </tr>\n",
       "  </tbody>\n",
       "</table>\n",
       "</div>"
      ],
      "text/plain": [
       "                                  długość kielicha (sepal length)  \\\n",
       "długość kielicha (sepal length)                          1.000000   \n",
       "szerokość kielicha (sepal width)                        -0.109369   \n",
       "długość płatka (petal length)                            0.871754   \n",
       "szerokość płatka (petal width)                           0.817954   \n",
       "\n",
       "                                  szerokość kielicha (sepal width)  \\\n",
       "długość kielicha (sepal length)                          -0.109369   \n",
       "szerokość kielicha (sepal width)                          1.000000   \n",
       "długość płatka (petal length)                            -0.420516   \n",
       "szerokość płatka (petal width)                           -0.356544   \n",
       "\n",
       "                                  długość płatka (petal length)  \\\n",
       "długość kielicha (sepal length)                        0.871754   \n",
       "szerokość kielicha (sepal width)                      -0.420516   \n",
       "długość płatka (petal length)                          1.000000   \n",
       "szerokość płatka (petal width)                         0.962757   \n",
       "\n",
       "                                  szerokość płatka (petal width)  \n",
       "długość kielicha (sepal length)                         0.817954  \n",
       "szerokość kielicha (sepal width)                       -0.356544  \n",
       "długość płatka (petal length)                           0.962757  \n",
       "szerokość płatka (petal width)                          1.000000  "
      ]
     },
     "execution_count": 28,
     "metadata": {},
     "output_type": "execute_result"
    }
   ],
   "source": [
    "df.corr(numeric_only=True)"
   ]
  },
  {
   "cell_type": "markdown",
   "metadata": {
    "editable": true,
    "slideshow": {
     "slide_type": "fragment"
    },
    "tags": []
   },
   "source": [
    "Z tabeli można zobaczyć, iż:\n",
    "- długi oraz szeroki płatek oznacza długi kielich\n",
    "- szerokość płatka wpływa pozytywnie na jego długość\n",
    "  \n",
    "Reszta korelacji jest zbyt mała by być brana pod uwagę."
   ]
  },
  {
   "cell_type": "markdown",
   "metadata": {
    "editable": true,
    "slideshow": {
     "slide_type": "slide"
    },
    "tags": []
   },
   "source": [
    "## Iris setosa"
   ]
  },
  {
   "cell_type": "code",
   "execution_count": 29,
   "metadata": {
    "editable": true,
    "jupyter": {
     "source_hidden": true
    },
    "slideshow": {
     "slide_type": "fragment"
    },
    "tags": []
   },
   "outputs": [
    {
     "data": {
      "text/html": [
       "<div>\n",
       "<style scoped>\n",
       "    .dataframe tbody tr th:only-of-type {\n",
       "        vertical-align: middle;\n",
       "    }\n",
       "\n",
       "    .dataframe tbody tr th {\n",
       "        vertical-align: top;\n",
       "    }\n",
       "\n",
       "    .dataframe thead th {\n",
       "        text-align: right;\n",
       "    }\n",
       "</style>\n",
       "<table border=\"1\" class=\"dataframe\">\n",
       "  <thead>\n",
       "    <tr style=\"text-align: right;\">\n",
       "      <th></th>\n",
       "      <th>długość kielicha (sepal length)</th>\n",
       "      <th>szerokość kielicha (sepal width)</th>\n",
       "      <th>długość płatka (petal length)</th>\n",
       "      <th>szerokość płatka (petal width)</th>\n",
       "    </tr>\n",
       "  </thead>\n",
       "  <tbody>\n",
       "    <tr>\n",
       "      <th>długość kielicha (sepal length)</th>\n",
       "      <td>1.000000</td>\n",
       "      <td>0.746780</td>\n",
       "      <td>0.263874</td>\n",
       "      <td>0.279092</td>\n",
       "    </tr>\n",
       "    <tr>\n",
       "      <th>szerokość kielicha (sepal width)</th>\n",
       "      <td>0.746780</td>\n",
       "      <td>1.000000</td>\n",
       "      <td>0.176695</td>\n",
       "      <td>0.279973</td>\n",
       "    </tr>\n",
       "    <tr>\n",
       "      <th>długość płatka (petal length)</th>\n",
       "      <td>0.263874</td>\n",
       "      <td>0.176695</td>\n",
       "      <td>1.000000</td>\n",
       "      <td>0.306308</td>\n",
       "    </tr>\n",
       "    <tr>\n",
       "      <th>szerokość płatka (petal width)</th>\n",
       "      <td>0.279092</td>\n",
       "      <td>0.279973</td>\n",
       "      <td>0.306308</td>\n",
       "      <td>1.000000</td>\n",
       "    </tr>\n",
       "  </tbody>\n",
       "</table>\n",
       "</div>"
      ],
      "text/plain": [
       "                                  długość kielicha (sepal length)  \\\n",
       "długość kielicha (sepal length)                          1.000000   \n",
       "szerokość kielicha (sepal width)                         0.746780   \n",
       "długość płatka (petal length)                            0.263874   \n",
       "szerokość płatka (petal width)                           0.279092   \n",
       "\n",
       "                                  szerokość kielicha (sepal width)  \\\n",
       "długość kielicha (sepal length)                           0.746780   \n",
       "szerokość kielicha (sepal width)                          1.000000   \n",
       "długość płatka (petal length)                             0.176695   \n",
       "szerokość płatka (petal width)                            0.279973   \n",
       "\n",
       "                                  długość płatka (petal length)  \\\n",
       "długość kielicha (sepal length)                        0.263874   \n",
       "szerokość kielicha (sepal width)                       0.176695   \n",
       "długość płatka (petal length)                          1.000000   \n",
       "szerokość płatka (petal width)                         0.306308   \n",
       "\n",
       "                                  szerokość płatka (petal width)  \n",
       "długość kielicha (sepal length)                         0.279092  \n",
       "szerokość kielicha (sepal width)                        0.279973  \n",
       "długość płatka (petal length)                           0.306308  \n",
       "szerokość płatka (petal width)                          1.000000  "
      ]
     },
     "execution_count": 29,
     "metadata": {},
     "output_type": "execute_result"
    }
   ],
   "source": [
    "set_df.corr(numeric_only=True)"
   ]
  },
  {
   "cell_type": "markdown",
   "metadata": {
    "editable": true,
    "slideshow": {
     "slide_type": "slide"
    },
    "tags": []
   },
   "source": [
    "## Iris versicolor"
   ]
  },
  {
   "cell_type": "code",
   "execution_count": 30,
   "metadata": {
    "editable": true,
    "jupyter": {
     "source_hidden": true
    },
    "slideshow": {
     "slide_type": "fragment"
    },
    "tags": []
   },
   "outputs": [
    {
     "data": {
      "text/html": [
       "<div>\n",
       "<style scoped>\n",
       "    .dataframe tbody tr th:only-of-type {\n",
       "        vertical-align: middle;\n",
       "    }\n",
       "\n",
       "    .dataframe tbody tr th {\n",
       "        vertical-align: top;\n",
       "    }\n",
       "\n",
       "    .dataframe thead th {\n",
       "        text-align: right;\n",
       "    }\n",
       "</style>\n",
       "<table border=\"1\" class=\"dataframe\">\n",
       "  <thead>\n",
       "    <tr style=\"text-align: right;\">\n",
       "      <th></th>\n",
       "      <th>długość kielicha (sepal length)</th>\n",
       "      <th>szerokość kielicha (sepal width)</th>\n",
       "      <th>długość płatka (petal length)</th>\n",
       "      <th>szerokość płatka (petal width)</th>\n",
       "    </tr>\n",
       "  </thead>\n",
       "  <tbody>\n",
       "    <tr>\n",
       "      <th>długość kielicha (sepal length)</th>\n",
       "      <td>1.000000</td>\n",
       "      <td>0.525911</td>\n",
       "      <td>0.754049</td>\n",
       "      <td>0.546461</td>\n",
       "    </tr>\n",
       "    <tr>\n",
       "      <th>szerokość kielicha (sepal width)</th>\n",
       "      <td>0.525911</td>\n",
       "      <td>1.000000</td>\n",
       "      <td>0.560522</td>\n",
       "      <td>0.663999</td>\n",
       "    </tr>\n",
       "    <tr>\n",
       "      <th>długość płatka (petal length)</th>\n",
       "      <td>0.754049</td>\n",
       "      <td>0.560522</td>\n",
       "      <td>1.000000</td>\n",
       "      <td>0.786668</td>\n",
       "    </tr>\n",
       "    <tr>\n",
       "      <th>szerokość płatka (petal width)</th>\n",
       "      <td>0.546461</td>\n",
       "      <td>0.663999</td>\n",
       "      <td>0.786668</td>\n",
       "      <td>1.000000</td>\n",
       "    </tr>\n",
       "  </tbody>\n",
       "</table>\n",
       "</div>"
      ],
      "text/plain": [
       "                                  długość kielicha (sepal length)  \\\n",
       "długość kielicha (sepal length)                          1.000000   \n",
       "szerokość kielicha (sepal width)                         0.525911   \n",
       "długość płatka (petal length)                            0.754049   \n",
       "szerokość płatka (petal width)                           0.546461   \n",
       "\n",
       "                                  szerokość kielicha (sepal width)  \\\n",
       "długość kielicha (sepal length)                           0.525911   \n",
       "szerokość kielicha (sepal width)                          1.000000   \n",
       "długość płatka (petal length)                             0.560522   \n",
       "szerokość płatka (petal width)                            0.663999   \n",
       "\n",
       "                                  długość płatka (petal length)  \\\n",
       "długość kielicha (sepal length)                        0.754049   \n",
       "szerokość kielicha (sepal width)                       0.560522   \n",
       "długość płatka (petal length)                          1.000000   \n",
       "szerokość płatka (petal width)                         0.786668   \n",
       "\n",
       "                                  szerokość płatka (petal width)  \n",
       "długość kielicha (sepal length)                         0.546461  \n",
       "szerokość kielicha (sepal width)                        0.663999  \n",
       "długość płatka (petal length)                           0.786668  \n",
       "szerokość płatka (petal width)                          1.000000  "
      ]
     },
     "execution_count": 30,
     "metadata": {},
     "output_type": "execute_result"
    }
   ],
   "source": [
    "ver_df.corr(numeric_only=True)"
   ]
  },
  {
   "cell_type": "markdown",
   "metadata": {
    "editable": true,
    "slideshow": {
     "slide_type": "slide"
    },
    "tags": []
   },
   "source": [
    "## Iris virginica"
   ]
  },
  {
   "cell_type": "code",
   "execution_count": 31,
   "metadata": {
    "editable": true,
    "jupyter": {
     "source_hidden": true
    },
    "scrolled": true,
    "slideshow": {
     "slide_type": "fragment"
    },
    "tags": []
   },
   "outputs": [
    {
     "data": {
      "text/html": [
       "<div>\n",
       "<style scoped>\n",
       "    .dataframe tbody tr th:only-of-type {\n",
       "        vertical-align: middle;\n",
       "    }\n",
       "\n",
       "    .dataframe tbody tr th {\n",
       "        vertical-align: top;\n",
       "    }\n",
       "\n",
       "    .dataframe thead th {\n",
       "        text-align: right;\n",
       "    }\n",
       "</style>\n",
       "<table border=\"1\" class=\"dataframe\">\n",
       "  <thead>\n",
       "    <tr style=\"text-align: right;\">\n",
       "      <th></th>\n",
       "      <th>długość kielicha (sepal length)</th>\n",
       "      <th>szerokość kielicha (sepal width)</th>\n",
       "      <th>długość płatka (petal length)</th>\n",
       "      <th>szerokość płatka (petal width)</th>\n",
       "    </tr>\n",
       "  </thead>\n",
       "  <tbody>\n",
       "    <tr>\n",
       "      <th>długość kielicha (sepal length)</th>\n",
       "      <td>1.000000</td>\n",
       "      <td>0.457228</td>\n",
       "      <td>0.864225</td>\n",
       "      <td>0.281108</td>\n",
       "    </tr>\n",
       "    <tr>\n",
       "      <th>szerokość kielicha (sepal width)</th>\n",
       "      <td>0.457228</td>\n",
       "      <td>1.000000</td>\n",
       "      <td>0.401045</td>\n",
       "      <td>0.537728</td>\n",
       "    </tr>\n",
       "    <tr>\n",
       "      <th>długość płatka (petal length)</th>\n",
       "      <td>0.864225</td>\n",
       "      <td>0.401045</td>\n",
       "      <td>1.000000</td>\n",
       "      <td>0.322108</td>\n",
       "    </tr>\n",
       "    <tr>\n",
       "      <th>szerokość płatka (petal width)</th>\n",
       "      <td>0.281108</td>\n",
       "      <td>0.537728</td>\n",
       "      <td>0.322108</td>\n",
       "      <td>1.000000</td>\n",
       "    </tr>\n",
       "  </tbody>\n",
       "</table>\n",
       "</div>"
      ],
      "text/plain": [
       "                                  długość kielicha (sepal length)  \\\n",
       "długość kielicha (sepal length)                          1.000000   \n",
       "szerokość kielicha (sepal width)                         0.457228   \n",
       "długość płatka (petal length)                            0.864225   \n",
       "szerokość płatka (petal width)                           0.281108   \n",
       "\n",
       "                                  szerokość kielicha (sepal width)  \\\n",
       "długość kielicha (sepal length)                           0.457228   \n",
       "szerokość kielicha (sepal width)                          1.000000   \n",
       "długość płatka (petal length)                             0.401045   \n",
       "szerokość płatka (petal width)                            0.537728   \n",
       "\n",
       "                                  długość płatka (petal length)  \\\n",
       "długość kielicha (sepal length)                        0.864225   \n",
       "szerokość kielicha (sepal width)                       0.401045   \n",
       "długość płatka (petal length)                          1.000000   \n",
       "szerokość płatka (petal width)                         0.322108   \n",
       "\n",
       "                                  szerokość płatka (petal width)  \n",
       "długość kielicha (sepal length)                         0.281108  \n",
       "szerokość kielicha (sepal width)                        0.537728  \n",
       "długość płatka (petal length)                           0.322108  \n",
       "szerokość płatka (petal width)                          1.000000  "
      ]
     },
     "execution_count": 31,
     "metadata": {},
     "output_type": "execute_result"
    }
   ],
   "source": [
    "vir_df.corr(numeric_only=True)"
   ]
  },
  {
   "cell_type": "markdown",
   "metadata": {
    "editable": true,
    "slideshow": {
     "slide_type": "fragment"
    },
    "tags": []
   },
   "source": [
    " **Badając korelacje poszczególnych gatunków można zauważyć ogólny trend mówiący, że jeden duży element wpływa pozytywnie na wielkość całości kwiatu.**"
   ]
  },
  {
   "cell_type": "markdown",
   "metadata": {
    "editable": true,
    "slideshow": {
     "slide_type": "slide"
    },
    "tags": []
   },
   "source": [
    "# Wartości odstające"
   ]
  },
  {
   "cell_type": "code",
   "execution_count": 32,
   "metadata": {
    "editable": true,
    "jupyter": {
     "source_hidden": true
    },
    "slideshow": {
     "slide_type": ""
    },
    "tags": []
   },
   "outputs": [],
   "source": [
    "box_df = df.rename(columns={'długość kielicha (sepal length)':'dł_k', 'szerokość kielicha (sepal width)':'sz_k', 'długość płatka (petal length)':'dł_p', 'szerokość płatka (petal width)':'sz_p'})\n",
    "box_set_df = set_df.rename(columns={'długość kielicha (sepal length)':'dł_k', 'szerokość kielicha (sepal width)':'sz_k', 'długość płatka (petal length)':'dł_p', 'szerokość płatka (petal width)':'sz_p'})\n",
    "box_ver_df = ver_df.rename(columns={'długość kielicha (sepal length)':'dł_k', 'szerokość kielicha (sepal width)':'sz_k', 'długość płatka (petal length)':'dł_p', 'szerokość płatka (petal width)':'sz_p'})\n",
    "box_vir_df = vir_df.rename(columns={'długość kielicha (sepal length)':'dł_k', 'szerokość kielicha (sepal width)':'sz_k', 'długość płatka (petal length)':'dł_p', 'szerokość płatka (petal width)':'sz_p'})"
   ]
  },
  {
   "cell_type": "code",
   "execution_count": 38,
   "metadata": {
    "editable": true,
    "jupyter": {
     "source_hidden": true
    },
    "slideshow": {
     "slide_type": "fragment"
    },
    "tags": []
   },
   "outputs": [
    {
     "data": {
      "image/png": "[encoded data removed]",
      "text/plain": [
       "<Figure size 640x480 with 1 Axes>"
      ]
     },
     "metadata": {},
     "output_type": "display_data"
    }
   ],
   "source": [
    "box_df.plot(kind='box');"
   ]
  },
  {
   "cell_type": "markdown",
   "metadata": {
    "editable": true,
    "slideshow": {
     "slide_type": "slide"
    },
    "tags": []
   },
   "source": [
    "## Iris setosa"
   ]
  },
  {
   "cell_type": "code",
   "execution_count": 39,
   "metadata": {
    "editable": true,
    "jupyter": {
     "source_hidden": true
    },
    "slideshow": {
     "slide_type": "fragment"
    },
    "tags": []
   },
   "outputs": [
    {
     "data": {
      "image/png": "[encoded data removed]",
      "text/plain": [
       "<Figure size 640x480 with 1 Axes>"
      ]
     },
     "metadata": {},
     "output_type": "display_data"
    }
   ],
   "source": [
    "box_set_df.plot(kind='box');"
   ]
  },
  {
   "cell_type": "markdown",
   "metadata": {
    "editable": true,
    "slideshow": {
     "slide_type": "slide"
    },
    "tags": []
   },
   "source": [
    "## Iris versicolor"
   ]
  },
  {
   "cell_type": "code",
   "execution_count": 37,
   "metadata": {
    "editable": true,
    "jupyter": {
     "source_hidden": true
    },
    "slideshow": {
     "slide_type": "fragment"
    },
    "tags": []
   },
   "outputs": [
    {
     "data": {
      "image/png": "[encoded data removed]",
      "text/plain": [
       "<Figure size 640x480 with 1 Axes>"
      ]
     },
     "metadata": {},
     "output_type": "display_data"
    }
   ],
   "source": [
    "box_ver_df.plot(kind='box');"
   ]
  },
  {
   "cell_type": "markdown",
   "metadata": {
    "editable": true,
    "slideshow": {
     "slide_type": "slide"
    },
    "tags": []
   },
   "source": [
    "## Iris virginica"
   ]
  },
  {
   "cell_type": "code",
   "execution_count": 36,
   "metadata": {
    "editable": true,
    "jupyter": {
     "source_hidden": true
    },
    "slideshow": {
     "slide_type": "fragment"
    },
    "tags": []
   },
   "outputs": [
    {
     "data": {
      "image/png": "[encoded data removed]",
      "text/plain": [
       "<Figure size 640x480 with 1 Axes>"
      ]
     },
     "metadata": {},
     "output_type": "display_data"
    }
   ],
   "source": [
    "box_vir_df.plot(kind='box');"
   ]
  },
  {
   "cell_type": "markdown",
   "metadata": {
    "editable": true,
    "slideshow": {
     "slide_type": "subslide"
    },
    "tags": []
   },
   "source": [
    "Z powyższych wykresów można zauważyć, że poszczególne gatunki najbardziej różnią się długością płatka.\n",
    "Wartości odstających jest mało i nie mają one znaczącego wpływu na całkowity pogląd statystyk."
   ]
  },
  {
   "cell_type": "markdown",
   "metadata": {
    "editable": true,
    "slideshow": {
     "slide_type": "slide"
    },
    "tags": []
   },
   "source": [
    "# Podsumowanie"
   ]
  },
  {
   "cell_type": "markdown",
   "metadata": {
    "editable": true,
    "slideshow": {
     "slide_type": "slide"
    },
    "tags": []
   },
   "source": [
    "**Setosa**\n",
    "- długość kielicha - 5cm\n",
    "- szerokość kielicha - 3,5cm\n",
    "- długość płatka - 1,5cm\n",
    "- szerokość płatka - szerokość płatka 0,2cm\n",
    "\n",
    "**Versicolor**\n",
    "- długość kielicha - 5,5cm\n",
    "- szerokość kielicha - 2,8cm\n",
    "- długość płatka - 4,5cm\n",
    "- szerokość płatka - szerokość płatka 1,3cm\n",
    "\n",
    "**Virginica**\n",
    "- długość kielicha - 6,5cm\n",
    "- szerokość kielicha - 3cm\n",
    "- długość płatka - 5,5cm\n",
    "- szerokość płatka - szerokość płatka 2cm"
   ]
  },
  {
   "cell_type": "markdown",
   "metadata": {
    "editable": true,
    "slideshow": {
     "slide_type": "slide"
    },
    "tags": []
   },
   "source": [
    "Spośród podanych trzech gatunków irysów, **virginica osiąga największe rozmiary ze średnią długością płatka wynoszącą 5,5cm**, gdzie **versicolor ma 4,5cm**, a **setosa jedynie 1,5**\n",
    "Podobne zależności można dostrzec w reszcie parametrów, wyjątkiem jest szerokość kielicha, ponieważ ten jest średnio największy u irysa setosy.\n",
    "\n",
    "Najlepiej rozróżniać poszczególne gatunki skupiając się głównie na długości i szerokości płatka."
   ]
  },
  {
   "cell_type": "code",
   "execution_count": null,
   "metadata": {
    "editable": true,
    "slideshow": {
     "slide_type": ""
    },
    "tags": []
   },
   "outputs": [],
   "source": []
  }
 ],
 "metadata": {
  "kernelspec": {
   "display_name": "Python 3 (ipykernel)",
   "language": "python",
   "name": "python3"
  },
  "language_info": {
   "codemirror_mode": {
    "name": "ipython",
    "version": 3
   },
   "file_extension": ".py",
   "mimetype": "text/x-python",
   "name": "python",
   "nbconvert_exporter": "python",
   "pygments_lexer": "ipython3",
   "version": "3.11.11"
  }
 },
 "nbformat": 4,
 "nbformat_minor": 4
}
